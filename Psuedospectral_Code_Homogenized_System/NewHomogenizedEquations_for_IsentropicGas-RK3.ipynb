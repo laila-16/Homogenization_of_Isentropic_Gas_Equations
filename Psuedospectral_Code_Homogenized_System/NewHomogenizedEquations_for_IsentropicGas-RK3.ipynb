{
 "cells": [
  {
   "cell_type": "code",
   "execution_count": 1,
   "id": "4ab80a0a",
   "metadata": {},
   "outputs": [],
   "source": [
    "import sys\n",
    "sys.path.append('/Users/busalels/Desktop/KAUST/spring2024/research')"
   ]
  },
  {
   "cell_type": "code",
   "execution_count": 2,
   "id": "4461e97e",
   "metadata": {},
   "outputs": [],
   "source": [
    "from scipy import integrate\n",
    "import sympy as sp\n",
    "import numpy as np\n",
    "from numpy import linalg as la \n",
    "%matplotlib inline\n",
    "import matplotlib\n",
    "import matplotlib.pyplot as plt\n",
    "import matplotlib.animation\n",
    "from IPython.display import HTML\n",
    "font = {'size'   : 15}\n",
    "matplotlib.rc('font', **font)\n",
    "from New_Homogenized_system_coefficients1_pwc import C_values, Homogenized_system_coef\n",
    "fft = np.fft.fft\n",
    "ifft = np.fft.ifft\n",
    "from tqdm import tqdm "
   ]
  },
  {
   "cell_type": "code",
   "execution_count": 3,
   "id": "da10b0c9",
   "metadata": {},
   "outputs": [],
   "source": [
    "def rk3(v,xi,rhs,dt):\n",
    "    y2 = v + dt*rhs(v,xi)\n",
    "    y3 = 0.75*v + 0.25*(y2 + dt*rhs(y2,xi))\n",
    "    v_new = 1./3 * v + 2./3 * (y3 + dt*rhs(y3,xi))\n",
    "    return v_new"
   ]
  },
  {
   "cell_type": "code",
   "execution_count": 4,
   "id": "eed94d6b",
   "metadata": {},
   "outputs": [],
   "source": [
    "num_plots =  25"
   ]
  },
  {
   "cell_type": "code",
   "execution_count": 5,
   "id": "d7ff8cd5",
   "metadata": {},
   "outputs": [],
   "source": [
    "def solve_isentropic_gas_equations(m, dt, num_plots):\n",
    "    L = 100  \n",
    "    x = np.arange(-m/2, m/2) * (L/m)\n",
    "    xi = np.fft.fftfreq(m) * m * 2 * np.pi / L\n",
    "\n",
    "    if cross_section == 'piecewise':\n",
    "        Amp = 1/20\n",
    "        rho0 = 0.3 + Amp*np.exp(-1*(x/8)**2)\n",
    "    elif cross_section == 'variable':\n",
    "        Amp = 1/12 \n",
    "        rho0 = p_0 + Amp * np.exp(-(x/5)**2) \n",
    "    elif cross_section == 'pwc_small':\n",
    "        Amp = 1/40\n",
    "        rho0 = 0.3 + Amp*np.exp(-1*(x/10)**2)\n",
    "    q0 = np.zeros_like(rho0)\n",
    "    drhodx = np.zeros_like(rho0)\n",
    "    dqdx = np.zeros_like(rho0)\n",
    "    drhodxt = np.real(ifft(1j * xi * fft(rho0)))\n",
    "    dqdxt = np.real(ifft(1j * xi * fft(q0)))\n",
    "    v = np.zeros((2, len(x)))\n",
    "    v[0, :] = rho0; v[1, :] = q0\n",
    "    vhat = np.zeros_like(v)\n",
    "    vhat[0, :] = drhodxt; vhat[1, :] = dqdxt\n",
    "    tmax = 50\n",
    "    \n",
    "    def rhs(v, xi):\n",
    "        d = np.zeros_like(v)\n",
    "        rho = v[0, :]\n",
    "        q = v[1, :]\n",
    "        q_hat = fft(q)\n",
    "        rho_hat = fft(rho)\n",
    "        drhodx = np.real(ifft(1j * xi * rho_hat))\n",
    "        drho2dx2 = np.real(ifft((1j * xi)**2 * rho_hat ))\n",
    "        drho3dx3 = np.real(ifft((1j * xi)**3 * rho_hat ))\n",
    "        dqdx  = np.real(ifft(1j * xi * q_hat))\n",
    "        dq2dx2 = np.real(ifft((1j * xi)**2 * q_hat))\n",
    "\n",
    "        inv1 = 1 / (1 - r5b * (1j * xi)**2)\n",
    "        dqdx1 = np.real(ifft(inv1 * fft(dqdx)))\n",
    "        dqdxx = np.real(ifft(inv1 * fft(dq2dx2)))\n",
    "        q_drhodx = np.real(ifft(inv1 * fft(q * drhodx)))\n",
    "        q2_dqdx = np.real(ifft(inv1 * fft(dqdx * q**2)))\n",
    "        q_rho_drhodx = np.real(ifft(inv1 * fft(q * rho * drhodx)))\n",
    "        dqdx_drhodx = np.real(ifft(inv1 * fft(dqdx * drhodx)))\n",
    "        q_drhodxx = np.real(ifft(inv1 * fft(q * drho2dx2)))\n",
    "\n",
    "        inv2 = 1 / (1 - beta11b * (1j * xi)**2)\n",
    "        drhodx1 = np.real(ifft(inv2 * fft(drhodx)))\n",
    "        q_dqdx = np.real(ifft(inv2 * fft(q * dqdx)))\n",
    "        rho_drhodx = np.real(ifft(inv2 * fft(rho * drhodx)))\n",
    "        drhodxx = np.real(ifft(inv2 * fft(drho2dx2)))\n",
    "        q_rho_dqdx = np.real(ifft(inv2 * fft(q * rho * dqdx)))\n",
    "        dqdx2 = np.real(ifft(inv2 * fft(dqdx**2)))\n",
    "        q_dqdxx = np.real(ifft(inv2 * fft(q * dq2dx2)))\n",
    "        q2_drhodx = np.real(ifft(inv2 * fft(drhodx * q**2)))\n",
    "        drhodx2 = np.real(ifft(inv2 * fft(drhodx**2)))\n",
    "        rho_drhodxx = np.real(ifft(inv2 * fft(rho * drho2dx2)))\n",
    "\n",
    "        d[0, :] = (r1 * dqdx1 + r2 * dqdxx + r3 * q_drhodx + r4 * q2_dqdx + \n",
    "                   r6 * q_rho_drhodx + r7 * dqdx_drhodx + r8 * q_drhodxx) - r6 * p_0 * q_drhodx\n",
    "\n",
    "        d[1, :] = (beta1 * drhodx1 + beta2 * q_dqdx + beta3 * rho_drhodx  + \n",
    "                   beta4 * drhodxx + beta5 * q_rho_dqdx  + beta6 * dqdx2 + \n",
    "                   beta7 * q_dqdxx + beta8 * q2_drhodx + beta9 * drhodx2 + beta10 * rho_drhodxx \n",
    "                   - beta3 * p_0 * drhodx1- beta5 * p_0 * q_dqdx - beta10 * p_0 * drhodxx)\n",
    "        return d\n",
    "\n",
    "    nplt = np.floor((tmax / num_plots) / dt)\n",
    "    nmax = int(round(tmax / dt))\n",
    "    \n",
    "    frames = [v.copy()]\n",
    "    fframes = [vhat]\n",
    "    tt = [0]\n",
    "    progress_bar = tqdm(total=nmax)\n",
    "    for n in range(1, nmax + 1):\n",
    "        v_new = rk3(v, xi, rhs, dt)\n",
    "        v = v_new.copy()\n",
    "        t = n * dt\n",
    "        if n % nplt == 0:\n",
    "            frames.append(v.copy())\n",
    "            tt.append(t)\n",
    "            progress_bar.update(nplt)\n",
    "    progress_bar.close()\n",
    "    return frames, x, tt, xi\n",
    "\n",
    "def plot_solution(frames, x, tt, xi):\n",
    "    fig = plt.figure(figsize=(12, 10))\n",
    "    axes = fig.add_subplot(211)\n",
    "    axes2 = fig.add_subplot(212)\n",
    "    line, = axes.plot(x, frames[0][0, :], lw=3)\n",
    "    line2, = axes2.plot(x, frames[0][1, :], lw=3)\n",
    "    xi_max = np.max(np.abs(xi))\n",
    "    axes2.set_xlabel(r'$x$', fontsize=30)\n",
    "    axes.set_ylabel(r'$\\rho$', fontsize=30)\n",
    "    axes2.set_ylabel(r'$q$', fontsize=30)\n",
    "    plt.close()\n",
    "\n",
    "    def plot_frame(i):\n",
    "        line.set_data(x, frames[i][0, :])\n",
    "        line2.set_data(x, frames[i][1, :])\n",
    "        axes.set_title('t= %.2e' % tt[i])\n",
    "        axes.set_xlim((x[0], x[-1]))\n",
    "        axes2.set_xlim((x[0], x[-1]))\n",
    "\n",
    "    anim = matplotlib.animation.FuncAnimation(fig, plot_frame,\n",
    "                                              frames=len(frames), interval=100,\n",
    "                                              repeat=False)\n",
    "    return HTML(anim.to_jshtml())\n"
   ]
  },
  {
   "cell_type": "code",
   "execution_count": 6,
   "id": "204f63fd",
   "metadata": {},
   "outputs": [],
   "source": [
    "cross_section = 'piecewise'\n",
    "if cross_section == 'pwc_small':\n",
    "    a = lambda y: np.piecewise(y, [y- np.floor(y) < 0.5, y- np.floor(y) >= 0.5], [1/2, 3/4])\n",
    "    dady = lambda y: np.zeros_like(y)\n",
    "    m=6000\n",
    "\n",
    "elif cross_section == 'variable':\n",
    "    a = lambda y: (3/5) + (2/5) *np.sin(2.*np.pi*y)\n",
    "    dady = lambda y: (2/5)*2*np.pi*np.cos(2.*np.pi*y)\n",
    "    m = 6000\n",
    "\n",
    "elif cross_section == 'piecewise':\n",
    "    a = lambda y: np.piecewise(y, [y- np.floor(y) < 0.5, y- np.floor(y) >= 0.5], [1/4, 3/4])\n",
    "    dady = lambda y: np.zeros_like(y)\n",
    "    m = 600"
   ]
  },
  {
   "cell_type": "code",
   "execution_count": 7,
   "id": "9d372293",
   "metadata": {},
   "outputs": [],
   "source": [
    "delta = 1\n",
    "C1, C2, C3, C4, C5, C6, C7, C8, C9,C10,C11,C12,C13,C14,C15,C16,avga,ainvavg = C_values(a=a,dady=dady,delta=delta)"
   ]
  },
  {
   "cell_type": "code",
   "execution_count": 8,
   "id": "3f933642",
   "metadata": {
    "scrolled": false
   },
   "outputs": [
    {
     "name": "stdout",
     "output_type": "stream",
     "text": [
      "<a>^2=  0.25\n",
      "C1=  -4.3954448375147e-19\n",
      "C2=  0.006944444444444444\n",
      "C3=  9.876543209876544\n",
      "C4=  1.391220826116584e-16\n",
      "C5=  -52.67489711934156\n",
      "C6=  -70.23319615912212\n",
      "C7=  -6.5117701296514086e-18\n",
      "C8=  0\n",
      "C9=  -0.003472222222222223\n",
      "C10=  2.6666666666666665\n",
      "C11=  -0.01851851851851851\n",
      "C12=  368.7242798353909\n",
      "C13=  0.0\n",
      "C14=  8.88888888888889\n",
      "C15=  -5.281354331063521e-18\n",
      "C16=  29.62962962962963\n"
     ]
    },
    {
     "data": {
      "text/plain": [
       "0.5"
      ]
     },
     "execution_count": 8,
     "metadata": {},
     "output_type": "execute_result"
    }
   ],
   "source": [
    "print(\"<a>^2= \",avga**2)\n",
    "print('C1= ',C1)\n",
    "print('C2= ',C2)\n",
    "print('C3= ',C3)\n",
    "print('C4= ',C4)\n",
    "print('C5= ',C5)\n",
    "print('C6= ',C6)\n",
    "print('C7= ',C7)\n",
    "print('C8= ',C8)\n",
    "print('C9= ',C9)\n",
    "print('C10= ',C10)\n",
    "print('C11= ',C11)\n",
    "print('C12= ',C12)\n",
    "print('C13= ',C13)\n",
    "print('C14= ',C14)\n",
    "print('C15= ',C15)\n",
    "print('C16= ',C16)\n",
    "avga"
   ]
  },
  {
   "cell_type": "code",
   "execution_count": 9,
   "id": "14a42b91",
   "metadata": {},
   "outputs": [],
   "source": [
    "gamma = 1.4 \n",
    "kappa =1\n",
    "p_0 = 0.3\n",
    "P1 = gamma*kappa*p_0**(gamma-1)\n",
    "P11= (gamma-1)*gamma*kappa*p_0**(gamma-2)\n",
    "\n",
    "r1, r2, r3, r4, r5,r5b, r6,r7,r8, beta1, beta2, beta3, beta4, beta5, beta6, beta7,beta8, beta9, beta10, beta11,beta11b = Homogenized_system_coef(C1, C2, C3, C4, C5, C6, C7, C8, C9,C10,C11,C12,C13,C14,C15,C16,avga,ainvavg, p_0, P1, P11, delta)"
   ]
  },
  {
   "cell_type": "code",
   "execution_count": 10,
   "id": "a435ebe2",
   "metadata": {},
   "outputs": [
    {
     "name": "stdout",
     "output_type": "stream",
     "text": [
      "P1 = 0.8649211907943767\n",
      "P11 = 1.153228254392502\n"
     ]
    }
   ],
   "source": [
    "print(\"P1 =\", P1)\n",
    "print(\"P11 =\", P11)"
   ]
  },
  {
   "cell_type": "code",
   "execution_count": 11,
   "id": "95ee1d2f",
   "metadata": {},
   "outputs": [
    {
     "name": "stdout",
     "output_type": "stream",
     "text": [
      "r1=  -2.0\n",
      "r2=  6.593167256272051e-19\n",
      "r3=  0.0\n",
      "r4=  -45.6760376089551\n",
      "r5=  -0.020833333333333336\n",
      "r5b=  0.04166666666666667\n",
      "r6=  -14.814814814814817\n",
      "r7=  -1.8844361608678236e-16\n",
      "r8=  -1.8844361608678236e-16\n",
      "β1=  -0.32434544654789127\n",
      "β2=  -13.333333333333334\n",
      "β3=  -0.4324605953971883\n",
      "β4=  -1.0692318889502467e-19\n",
      "β5=  59.25925925925927\n",
      "β6=  -2.0239507830705267e-17\n",
      "β7=  -5.4002216328336363e-17\n",
      "β8=  34.567901234567884\n",
      "β9=  -7.365819679435034e-19\n",
      "β10=  -1.425642518600329e-19\n",
      "β11=  -0.0033785984015405335\n",
      "β11b=  0.001095833007253656\n",
      "2.0\n"
     ]
    }
   ],
   "source": [
    "print(\"r1= \",r1)\n",
    "print(\"r2= \" , r2)\n",
    "print(\"r3= \" , r3)\n",
    "print(\"r4= \" , r4)\n",
    "print(\"r5= \" , r5)\n",
    "print(\"r5b= \" , r5b)\n",
    "print(\"r6= \" , r6)\n",
    "print(\"r7= \" , r7)\n",
    "print(\"r8= \" , r8)\n",
    "\n",
    "\n",
    "print(\"\\u03B21= \" ,beta1)\n",
    "print(\"\\u03B22= \" ,beta2)\n",
    "print(\"\\u03B23= \" ,beta3)\n",
    "print(\"\\u03B24= \" ,beta4)\n",
    "print(\"\\u03B25= \" ,beta5)\n",
    "print(\"\\u03B26= \" ,beta6)\n",
    "print(\"\\u03B27= \" ,beta7)\n",
    "print(\"\\u03B28= \" ,beta8)\n",
    "print(\"\\u03B29= \" ,beta9)\n",
    "print(\"\\u03B210= \" ,beta10)\n",
    "print(\"\\u03B211= \" ,beta11)\n",
    "print(\"\\u03B211b= \" ,beta11b)\n",
    "\n",
    "print(1/avga)"
   ]
  },
  {
   "cell_type": "code",
   "execution_count": null,
   "id": "096ac334",
   "metadata": {
    "scrolled": true
   },
   "outputs": [
    {
     "name": "stdout",
     "output_type": "stream",
     "text": [
      "9e-05\n"
     ]
    },
    {
     "name": "stderr",
     "output_type": "stream",
     "text": [
      "  4%|█████▉                                                                                                                                                | 22222.0/555556 [01:05<26:09, 339.77it/s]"
     ]
    }
   ],
   "source": [
    "dt = 9e-05 #1.73/(m/2)**2\n",
    "print(dt)\n",
    "frames, x, tt, xi=solve_isentropic_gas_equations(m, dt, num_plots)"
   ]
  },
  {
   "cell_type": "code",
   "execution_count": null,
   "id": "f35a0993",
   "metadata": {},
   "outputs": [],
   "source": [
    "plot_solution(frames, x, tt, xi)"
   ]
  },
  {
   "cell_type": "code",
   "execution_count": null,
   "id": "aa961210",
   "metadata": {},
   "outputs": [],
   "source": []
  }
 ],
 "metadata": {
  "kernelspec": {
   "display_name": "Python 3 (ipykernel)",
   "language": "python",
   "name": "python3"
  },
  "language_info": {
   "codemirror_mode": {
    "name": "ipython",
    "version": 3
   },
   "file_extension": ".py",
   "mimetype": "text/x-python",
   "name": "python",
   "nbconvert_exporter": "python",
   "pygments_lexer": "ipython3",
   "version": "3.11.4"
  }
 },
 "nbformat": 4,
 "nbformat_minor": 5
}
