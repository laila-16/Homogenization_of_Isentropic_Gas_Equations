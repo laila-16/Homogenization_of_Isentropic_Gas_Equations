{
 "cells": [
  {
   "cell_type": "code",
   "execution_count": 1,
   "id": "4461e97e",
   "metadata": {},
   "outputs": [],
   "source": [
    "from scipy import integrate\n",
    "import sympy as sp\n",
    "import numpy as np\n",
    "from numpy import linalg as la \n",
    "%matplotlib inline\n",
    "import matplotlib\n",
    "import matplotlib.pyplot as plt\n",
    "import matplotlib.animation\n",
    "from IPython.display import HTML\n",
    "font = {'size'   : 15}\n",
    "matplotlib.rc('font', **font)\n",
    "from New_Homogenized_system_coefficients1_pwc import C_values, Homogenized_system_coef\n",
    "fft = np.fft.fft\n",
    "ifft = np.fft.ifft\n",
    "from tqdm import tqdm \n",
    "import os"
   ]
  },
  {
   "cell_type": "code",
   "execution_count": null,
   "id": "da10b0c9",
   "metadata": {},
   "outputs": [],
   "source": [
    "def rk3(v,xi,rhs,dt):\n",
    "    y2 = v + dt*rhs(v,xi)\n",
    "    y3 = 0.75*v + 0.25*(y2 + dt*rhs(y2,xi))\n",
    "    v_new = 1./3 * v + 2./3 * (y3 + dt*rhs(y3,xi))\n",
    "    return v_new"
   ]
  },
  {
   "cell_type": "code",
   "execution_count": null,
   "id": "eed94d6b",
   "metadata": {},
   "outputs": [],
   "source": [
    "num_plots =  450"
   ]
  },
  {
   "cell_type": "code",
   "execution_count": null,
   "id": "d7ff8cd5",
   "metadata": {},
   "outputs": [],
   "source": [
    "def solve_isothermal_gas_equations(m,dt, num_plots):\n",
    "    L = 1000 \n",
    "    x = np.arange(-m/2, m/2) * (L/m)\n",
    "    xi = np.fft.fftfreq(m) * m * 2 * np.pi / L\n",
    "\n",
    "    if cross_section == 'piecewise':\n",
    "        Amp = 1/20\n",
    "        rhobar_initial = Amp*np.exp(-1*(x/8)**2)\n",
    "    elif cross_section == 'variable':\n",
    "        Amp = 1/12 \n",
    "        rhobar_initial =  Amp * np.exp(-(x/5)**2) \n",
    "    elif cross_section == 'pwc_small':\n",
    "        Amp = 1/40\n",
    "        rhobar_initial =  Amp*np.exp(-1*(x/10)**2)\n",
    "    elif cross_section == 'constant':\n",
    "        Amp = 1/200\n",
    "        rhobar_initial = Amp*np.exp(-0.36*(x)**2)\n",
    "        \n",
    "    q0 = np.zeros_like(rhobar_initial)\n",
    "    drhodx = np.zeros_like(rhobar_initial)\n",
    "    dqdx = np.zeros_like(rhobar_initial)\n",
    "    drhodxt = np.real(ifft(1j * xi * fft(rhobar_initial)))\n",
    "    dqdxt = np.real(ifft(1j * xi * fft(q0)))\n",
    "    v = np.zeros((2, len(x)))\n",
    "    v[0, :] = rhobar_initial; v[1, :] = q0\n",
    "    vhat = np.zeros_like(v)\n",
    "    vhat[0, :] = drhodxt; vhat[1, :] = dqdxt\n",
    "    tmax = 900\n",
    "    \n",
    "\n",
    "    def rhs(v, xi):\n",
    "        d = np.zeros_like(v)\n",
    "        rho = v[0, :]\n",
    "        q = v[1, :]\n",
    "        q_hat = fft(q)\n",
    "        rho_hat = fft(rho)\n",
    "        drhodx = np.real(ifft(1j * xi * rho_hat))\n",
    "        drho2dx2 = np.real(ifft((1j * xi)**2 * rho_hat))\n",
    "        drho3dx3 = np.real(ifft((1j * xi)**3 * rho_hat))\n",
    "        dqdx  = np.real(ifft(1j * xi * q_hat))\n",
    "        dq2dx2 = np.real(ifft((1j * xi)**2 * q_hat))\n",
    "\n",
    "        inv1 = 1 / (1 - r5b * (1j * xi)**2)\n",
    "        rhs1 = r1*dqdx + r2*dq2dx2 + r3*q*drhodx + r4*dqdx*q**2 + r6*q*rho*drhodx + r7*dqdx*drhodx + r8*q*drho2dx2\n",
    "        dqdt = np.real(ifft(inv1 * fft(rhs1)))\n",
    "\n",
    "        inv2 = 1 / (1 - beta11b * (1j * xi)**2)\n",
    "        rhs2 = beta1*drhodx + beta2*q*dqdx + beta3*rho*drhodx + beta4*drho2dx2 + beta5*q*rho*dqdx + beta6*dqdx**2\\\n",
    "             + beta7*q*dq2dx2 + beta8*drhodx*q**2 + beta9*drhodx**2 + beta10*rho*drho2dx2  \n",
    "        drhodt = np.real(ifft(inv2 * fft(rhs2)))\n",
    "\n",
    "        d[0, :] = dqdt\n",
    "        d[1, :] = drhodt\n",
    "        return d\n",
    "\n",
    "    nplt = np.floor((tmax / num_plots) / dt)\n",
    "    nmax = int(round(tmax / dt))\n",
    "    \n",
    "    frames = [v.copy()]\n",
    "    tt = [0]\n",
    "    progress_bar = tqdm(total=nmax)\n",
    "    for n in range(1, nmax + 1):\n",
    "        v_new = rk3(v, xi, rhs, dt)\n",
    "        v = v_new.copy()\n",
    "        t = n * dt\n",
    "        if n % nplt == 0:\n",
    "            frames.append(v.copy())\n",
    "            tt.append(t)\n",
    "            progress_bar.update(nplt)\n",
    "    progress_bar.close()\n",
    "    return frames, x, tt, xi\n",
    "\n",
    "def plot_solution(frames, x, tt, xi):\n",
    "    fig = plt.figure(figsize=(12, 10))\n",
    "    axes = fig.add_subplot(211)\n",
    "    axes2 = fig.add_subplot(212)\n",
    "    line, = axes.plot(x, frames[0][0, :], lw=3)\n",
    "    line2, = axes2.plot(x, frames[0][1, :], lw=3)\n",
    "    xi_max = np.max(np.abs(xi))\n",
    "    axes2.set_xlabel(r'$x$', fontsize=30)\n",
    "    axes.set_ylabel(r'$\\rho$', fontsize=30)\n",
    "    axes2.set_ylabel(r'$q$', fontsize=30)\n",
    "    plt.close()\n",
    "\n",
    "    def plot_frame(i):\n",
    "        line.set_data(x, frames[i][0, :])\n",
    "        line2.set_data(x, frames[i][1, :])\n",
    "        axes.set_title('t= %.2e' % tt[i])\n",
    "        axes.set_xlim((x[0], x[-1]))\n",
    "        axes2.set_xlim((x[0], x[-1]))\n",
    "\n",
    "    anim = matplotlib.animation.FuncAnimation(fig, plot_frame,\n",
    "                                              frames=len(frames), interval=100,\n",
    "                                              repeat=False)\n",
    "    return HTML(anim.to_jshtml())\n"
   ]
  },
  {
   "cell_type": "code",
   "execution_count": null,
   "id": "204f63fd",
   "metadata": {},
   "outputs": [],
   "source": [
    "cross_section = 'piecewise'\n",
    "if cross_section == 'pwc_small':\n",
    "    a = lambda y: np.piecewise(y, [y- np.floor(y) < 0.5, y- np.floor(y) >= 0.5], [1/2, 3/4])\n",
    "    dady = lambda y: np.zeros_like(y)\n",
    "    m=6000\n",
    "\n",
    "elif cross_section == 'variable':\n",
    "    a = lambda y: (3/5) + (2/5) *np.sin(2.*np.pi*y)\n",
    "    dady = lambda y: (2/5)*2*np.pi*np.cos(2.*np.pi*y)\n",
    "    m = 6000\n",
    "\n",
    "elif cross_section == 'piecewise':\n",
    "    a = lambda y: np.piecewise(y, [y- np.floor(y) < 0.5, y- np.floor(y) >= 0.5], [1/4, 3/4])\n",
    "    dady = lambda y: np.zeros_like(y)\n",
    "    m = 6000\n",
    "elif cross_section == 'constant':\n",
    "    a = lambda y: 5\n",
    "    dady = lambda y: 0\n",
    "    m = 800"
   ]
  },
  {
   "cell_type": "code",
   "execution_count": null,
   "id": "14a42b91",
   "metadata": {},
   "outputs": [],
   "source": [
    "gamma = 1.4 \n",
    "kappa =1\n",
    "p_0 = 0.3  # Corresponds to \\(\\rho_0\\) (rho zero) in the paper\n",
    "P1 = gamma*kappa*p_0**(gamma-1) #first derivative of the pressure\n",
    "P11= (gamma-1)*gamma*kappa*p_0**(gamma-2) #second derivative of the pressure\n"
   ]
  },
  {
   "cell_type": "code",
   "execution_count": null,
   "id": "a435ebe2",
   "metadata": {},
   "outputs": [],
   "source": [
    "print(\"P1 =\", P1)\n",
    "print(\"P11 =\", P11)"
   ]
  },
  {
   "cell_type": "code",
   "execution_count": null,
   "id": "9d372293",
   "metadata": {},
   "outputs": [],
   "source": [
    "delta = 1\n",
    "C1, C2, C3, C4, C5, C6, C7, C8, C9,C10,C11,C12,C13,C14,C15,C16,avga,ainvavg = C_values(a=a,dady=dady,p_0=p_0,delta=delta)"
   ]
  },
  {
   "cell_type": "code",
   "execution_count": null,
   "id": "92c3a9be",
   "metadata": {},
   "outputs": [],
   "source": [
    "r1, r2, r3, r4, r5,r5b, r6,r7,r8, beta1, beta2, beta3, beta4, beta5, beta6, beta7,beta8, beta9, beta10, beta11,beta11b = Homogenized_system_coef(C1, C2, C3, C4, C5, C6, C7, C8, C9,C10,C11,C12,C13,C14,C15,C16,avga,ainvavg, p_0, P1, P11, delta)"
   ]
  },
  {
   "cell_type": "code",
   "execution_count": null,
   "id": "3f933642",
   "metadata": {
    "scrolled": false
   },
   "outputs": [],
   "source": [
    "print(\"<a>^2= \",avga**2)\n",
    "print('C1= ',C1)\n",
    "print('C2= ',C2)\n",
    "print('C3= ',C3)\n",
    "print('C4= ',C4)\n",
    "print('C5= ',C5)\n",
    "print('C6= ',C6)\n",
    "print('C7= ',C7)\n",
    "print('C8= ',C8)\n",
    "print('C9= ',C9)\n",
    "print('C10= ',C10)\n",
    "print('C11= ',C11)\n",
    "print('C12= ',C12)\n",
    "print('C13= ',C13)\n",
    "print('C14= ',C14)\n",
    "print('C15= ',C15)\n",
    "print('C16= ',C16)\n",
    "avga"
   ]
  },
  {
   "cell_type": "code",
   "execution_count": null,
   "id": "95ee1d2f",
   "metadata": {},
   "outputs": [],
   "source": [
    "print(\"r1= \",r1)\n",
    "print(\"r2= \" , r2)\n",
    "print(\"r3= \" , r3)\n",
    "print(\"r4= \" , r4)\n",
    "print(\"r5= \" , r5)\n",
    "print(\"r5b= \" , r5b)\n",
    "print(\"r6= \" , r6)\n",
    "print(\"r7= \" , r7)\n",
    "print(\"r8= \" , r8)\n",
    "\n",
    "\n",
    "print(\"\\u03B21= \" ,beta1)\n",
    "print(\"\\u03B22= \" ,beta2)\n",
    "print(\"\\u03B23= \" ,beta3)\n",
    "print(\"\\u03B24= \" ,beta4)\n",
    "print(\"\\u03B25= \" ,beta5)\n",
    "print(\"\\u03B26= \" ,beta6)\n",
    "print(\"\\u03B27= \" ,beta7)\n",
    "print(\"\\u03B28= \" ,beta8)\n",
    "print(\"\\u03B29= \" ,beta9)\n",
    "print(\"\\u03B210= \" ,beta10)\n",
    "print(\"\\u03B211= \" ,beta11)\n",
    "print(\"\\u03B211b= \" ,beta11b)\n",
    "\n",
    "print(1/avga)"
   ]
  },
  {
   "cell_type": "code",
   "execution_count": null,
   "id": "096ac334",
   "metadata": {
    "scrolled": true
   },
   "outputs": [],
   "source": [
    "dt = 9e-05 #1.73/(m/2)**2\n",
    "print(dt)\n",
    "frames, x, tt, xi=solve_isothermal_gas_equations(m,dt,num_plots)"
   ]
  },
  {
   "cell_type": "code",
   "execution_count": null,
   "id": "f35a0993",
   "metadata": {},
   "outputs": [],
   "source": [
    "plot_solution(frames, x, tt, xi)"
   ]
  },
  {
   "cell_type": "code",
   "execution_count": null,
   "id": "1215de33",
   "metadata": {},
   "outputs": [],
   "source": [
    "from clawpack import pyclaw\n",
    "\n",
    "# Define the path\n",
    "path = \"/Users/busalels/Desktop/KAUST/fall2024/research/Homogenization_of_isothermal_gas_equation/Capacity_function_pwc/_output\"\n",
    "\n",
    "# Define the function to read a frame\n",
    "def FV_solution(i):\n",
    "    frame = pyclaw.Solution(i, file_format='petsc', file_prefix='claw', read_aux=True, path=path)\n",
    "    return frame\n",
    "\n",
    "#Initialize an empty list to store the data\n",
    "FV_frames = []\n",
    "\n",
    "# Loop over the range and append data to the list\n",
    "for i in range(num_plots):\n",
    "    frame = FV_solution(i)\n",
    "    FV_frames.append(frame.q)  \n",
    "\n",
    "# FV_frames contain all the frame.q data\n",
    "xFV = frame.domain.grid.x.centers"
   ]
  },
  {
   "cell_type": "code",
   "execution_count": null,
   "id": "2558e0d8",
   "metadata": {},
   "outputs": [],
   "source": [
    "a = frame.aux[0:]"
   ]
  },
  {
   "cell_type": "code",
   "execution_count": null,
   "id": "abad5fa0",
   "metadata": {},
   "outputs": [],
   "source": [
    "rho_constant = 0.3\n",
    "def plot_solution(frames,x,xFV,FV_frames, tt,a):\n",
    "    fig = plt.figure(figsize=(10,10))\n",
    "    axes = fig.add_subplot(211)\n",
    "    axes2 = fig.add_subplot(212)\n",
    "    line, = axes.plot(x,frames[0][0,:]+rho_constant,lw=3,  label='Homogenized')\n",
    "    line2, = axes2.plot(x,frames[0][1,:],lw=2)\n",
    "    lineFV, = axes.plot(xFV,FV_frames[0][0],lw=3, label ='FV')\n",
    "    line2FV, = axes2.plot(xFV, a.flatten()*FV_frames[0][1].flatten(), lw=3)\n",
    "    axes.set_xlabel(r'$x$',fontsize=30)\n",
    "    axes2.set_xlabel(r'$x$',fontsize=30)\n",
    "    axes.set_ylabel(r'$\\rho$',fontsize=30)\n",
    "    axes2.set_ylabel(r'$q$',fontsize=30)\n",
    "    #plt.tight_layout()\n",
    "    plt.close()\n",
    "\n",
    "\n",
    "    def plot_frame(i):\n",
    "        line.set_data(x,frames[i][0,:]+rho_constant)\n",
    "        line2.set_data(x,frames[i][1,:])\n",
    "        lineFV.set_data(xFV,FV_frames[i][0])\n",
    "        line2FV.set_data(xFV, a.flatten()*FV_frames[i][1].flatten())\n",
    "        axes.set_xlim((0,x[-1]))\n",
    "        axes2.set_xlim((0,x[-1]))\n",
    "        \n",
    "    axes.legend()\n",
    "\n",
    "    anim = matplotlib.animation.FuncAnimation(fig, plot_frame,\n",
    "                                              frames=len(FV_frames), interval=100,\n",
    "                                              repeat=False)\n",
    "    return HTML(anim.to_jshtml())\n"
   ]
  },
  {
   "cell_type": "code",
   "execution_count": null,
   "id": "202bf30e",
   "metadata": {
    "scrolled": false
   },
   "outputs": [],
   "source": [
    "plot_solution(frames,x,xFV,FV_frames, tt,a)"
   ]
  },
  {
   "cell_type": "code",
   "execution_count": null,
   "id": "c7add7c3",
   "metadata": {},
   "outputs": [],
   "source": []
  }
 ],
 "metadata": {
  "kernelspec": {
   "display_name": "Python 3 (ipykernel)",
   "language": "python",
   "name": "python3"
  },
  "language_info": {
   "codemirror_mode": {
    "name": "ipython",
    "version": 3
   },
   "file_extension": ".py",
   "mimetype": "text/x-python",
   "name": "python",
   "nbconvert_exporter": "python",
   "pygments_lexer": "ipython3",
   "version": "3.11.4"
  }
 },
 "nbformat": 4,
 "nbformat_minor": 5
}
