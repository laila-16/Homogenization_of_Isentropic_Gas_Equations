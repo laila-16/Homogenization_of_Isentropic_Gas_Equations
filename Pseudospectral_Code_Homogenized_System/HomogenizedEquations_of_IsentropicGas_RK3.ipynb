{
 "cells": [
  {
   "cell_type": "code",
   "execution_count": null,
   "id": "03c75979",
   "metadata": {},
   "outputs": [],
   "source": [
    "import sys\n",
    "sys.path.append('')"
   ]
  },
  {
   "cell_type": "code",
   "execution_count": null,
   "id": "4461e97e",
   "metadata": {},
   "outputs": [],
   "source": [
    "from scipy import integrate\n",
    "import sympy as sp\n",
    "import numpy as np\n",
    "from numpy import linalg as la \n",
    "%matplotlib inline\n",
    "import matplotlib\n",
    "import matplotlib.pyplot as plt\n",
    "import matplotlib.animation\n",
    "from IPython.display import HTML\n",
    "font = {'size'   : 15}\n",
    "matplotlib.rc('font', **font)\n",
    "from New_Homogenized_system_coefficients1_pwc import C_values, Homogenized_system_coef\n",
    "fft = np.fft.fft\n",
    "ifft = np.fft.ifft\n",
    "from tqdm import tqdm \n",
    "import os"
   ]
  },
  {
   "cell_type": "code",
   "execution_count": null,
   "id": "da10b0c9",
   "metadata": {},
   "outputs": [],
   "source": [
    "def rk3(v,xi,rhs,dt):\n",
    "    y2 = v + dt*rhs(v,xi)\n",
    "    y3 = 0.75*v + 0.25*(y2 + dt*rhs(y2,xi))\n",
    "    v_new = 1./3 * v + 2./3 * (y3 + dt*rhs(y3,xi))\n",
    "    return v_new"
   ]
  },
  {
   "cell_type": "code",
   "execution_count": null,
   "id": "eed94d6b",
   "metadata": {},
   "outputs": [],
   "source": [
    "num_plots =  450"
   ]
  },
  {
   "cell_type": "code",
   "execution_count": null,
   "id": "d7ff8cd5",
   "metadata": {},
   "outputs": [],
   "source": [
    "\"\"\"\n",
    "Here, we implement Equation 4.2 from the paper \n",
    "Homogenized Equations for Isentropic Gas in a Pipe with Periodically-Varying Cross-Section.\n",
    "\n",
    "rho: Denotes the density.\n",
    "\n",
    "rhobar_initial: Initial condition for the density.\n",
    "\n",
    "q: Denotes the flux.\n",
    "\n",
    "q0: Initial condition for the flux.\n",
    "\n",
    "p_0: Background (ambient) density, corresponding to rho zero in the paper.\n",
    "\n",
    "P1: First derivative of the pressure evaluated at rho zero, obtained by differentiating the pressure formula.\n",
    "\n",
    "P11: Second derivative of the pressure evaluated at rho zero.\n",
    "\n",
    "delta: Length of one period.\n",
    "\n",
    "r1, r2,... Correspond to the variable alpha1, alpha2,... in the paper.\n",
    "\"\"\"\n",
    "\n",
    "\n",
    "def solve_isothermal_gas_equations(m,dt, num_plots):\n",
    "    L = 1600 \n",
    "    x = np.arange(-m/2, m/2) * (L/m)\n",
    "    xi = np.fft.fftfreq(m) * m * 2 * np.pi / L\n",
    "\n",
    "    if cross_section == 'piecewise':\n",
    "        Amp = 1/20\n",
    "        rhobar_initial = Amp*np.exp(-1*(x/8)**2)\n",
    "    elif cross_section == 'variable':\n",
    "        Amp = 1/12 \n",
    "        rhobar_initial =  Amp * np.exp(-(x/5)**2) \n",
    "        \n",
    "    q0 = np.zeros_like(rhobar_initial)\n",
    "    drhodx = np.zeros_like(rhobar_initial)\n",
    "    dqdx = np.zeros_like(rhobar_initial)\n",
    "    drhodxt = np.real(ifft(1j * xi * fft(rhobar_initial)))\n",
    "    dqdxt = np.real(ifft(1j * xi * fft(q0)))\n",
    "    v = np.zeros((2, len(x)))\n",
    "    v[0, :] = rhobar_initial; v[1, :] = q0\n",
    "    vhat = np.zeros_like(v)\n",
    "    vhat[0, :] = drhodxt; vhat[1, :] = dqdxt\n",
    "    tmax = 900\n",
    "    \n",
    "\n",
    "    def rhs(v, xi):\n",
    "        d = np.zeros_like(v)\n",
    "        rho = v[0, :]\n",
    "        q = v[1, :]\n",
    "        q_hat = fft(q)\n",
    "        rho_hat = fft(rho)\n",
    "        drhodx = np.real(ifft(1j * xi * rho_hat))\n",
    "        drho2dx2 = np.real(ifft((1j * xi)**2 * rho_hat))\n",
    "        drho3dx3 = np.real(ifft((1j * xi)**3 * rho_hat))\n",
    "        dqdx  = np.real(ifft(1j * xi * q_hat))\n",
    "        dq2dx2 = np.real(ifft((1j * xi)**2 * q_hat))\n",
    "\n",
    "        inv1 = 1 / (1 - r5b * (1j * xi)**2)\n",
    "        rhs1 = r1*dqdx + r2*dq2dx2 + r3*q*drhodx + r4*dqdx*q**2 + r6*q*rho*drhodx + r7*dqdx*drhodx + r8*q*drho2dx2\n",
    "        dqdt = np.real(ifft(inv1 * fft(rhs1)))\n",
    "\n",
    "        inv2 = 1 / (1 - beta11b * (1j * xi)**2)\n",
    "        rhs2 = beta1*drhodx + beta2*q*dqdx + beta3*rho*drhodx + beta4*drho2dx2 + beta5*q*rho*dqdx + beta6*dqdx**2\\\n",
    "             + beta7*q*dq2dx2 + beta8*drhodx*q**2 + beta9*drhodx**2 + beta10*rho*drho2dx2  \n",
    "        drhodt = np.real(ifft(inv2 * fft(rhs2)))\n",
    "\n",
    "        d[0, :] = dqdt\n",
    "        d[1, :] = drhodt\n",
    "        return d\n",
    "\n",
    "    nplt = np.floor((tmax / num_plots) / dt)\n",
    "    nmax = int(round(tmax / dt))\n",
    "    \n",
    "    frames = [v.copy()]\n",
    "    tt = [0]\n",
    "    progress_bar = tqdm(total=nmax)\n",
    "    for n in range(1, nmax + 1):\n",
    "        v_new = rk3(v, xi, rhs, dt)\n",
    "        v = v_new.copy()\n",
    "        t = n * dt\n",
    "        if n % nplt == 0:\n",
    "            frames.append(v.copy())\n",
    "            tt.append(t)\n",
    "            progress_bar.update(nplt)\n",
    "    progress_bar.close()\n",
    "    return frames, x, tt, xi"
   ]
  },
  {
   "cell_type": "code",
   "execution_count": null,
   "id": "204f63fd",
   "metadata": {},
   "outputs": [],
   "source": [
    "cross_section = 'piecewise'\n",
    "elif cross_section == 'variable':\n",
    "    a = lambda y: (3/5) + (2/5) *np.sin(2.*np.pi*y)\n",
    "    dady = lambda y: (2/5)*2*np.pi*np.cos(2.*np.pi*y)\n",
    "    m = 6000\n",
    "\n",
    "elif cross_section == 'piecewise':\n",
    "    a = lambda y: np.piecewise(y, [y- np.floor(y) < 0.5, y- np.floor(y) >= 0.5], [1/4, 3/4])\n",
    "    dady = lambda y: np.zeros_like(y)\n",
    "    m = 4000\n",
    "\n",
   ]
  },
  {
   "cell_type": "code",
   "execution_count": null,
   "id": "14a42b91",
   "metadata": {},
   "outputs": [],
   "source": [
    "gamma = 1.4 \n",
    "kappa =1\n",
    "p_0 = 0.3 \n",
    "P1 = gamma*kappa*p_0**(gamma-1)\n",
    "P11= (gamma-1)*gamma*kappa*p_0**(gamma-2)\n",
    "delta = 1"
   ]
  },
  {
   "cell_type": "code",
   "execution_count": null,
   "id": "9d372293",
   "metadata": {},
   "outputs": [],
   "source": [
    "C1, C2, C3, C4, C5, C6, C7, C8, C9,C10,C11,C12,C13,C14,C15,avga,ainvavg = C_values(a=a,dady=dady,p_0=p_0,delta=delta)"
   ]
  },
  {
   "cell_type": "code",
   "execution_count": null,
   "id": "92c3a9be",
   "metadata": {},
   "outputs": [],
   "source": [
    "r1, r2, r3, r4, r5,r5b, r6,r7,r8, beta1, beta2, beta3, beta4, beta5, beta6, beta7,beta8, beta9, beta10, beta11,beta11b = Homogenized_system_coef(C1, C2, C3, C4, C5, C6, C7, C8, C9,C10,C11,C12,C13,C14,C15,avga,ainvavg, p_0, P1, P11, delta)"
   ]
  },
  {
   "cell_type": "code",
   "execution_count": null,
   "id": "096ac334",
   "metadata": {
    "scrolled": true
   },
   "outputs": [],
   "source": [
    "dt = 9e-05 \n",
    "print(dt)\n",
    "frames, x, tt, xi=solve_isothermal_gas_equations(m,dt,num_plots)"
   ]
  },
  {
   "cell_type": "code",
   "execution_count": null,
   "id": "1215de33",
   "metadata": {},
   "outputs": [],
   "source": [
    "from clawpack import pyclaw\n",
    "\n",
    "path = \"/Users/busalels/Desktop/KAUST/fall2024/research/Homogenization_of_isothermal_gas_equation/Capacity_function_pwc/_output\"\n",
    "\n",
    "def FV_solution(i):\n",
    "    frame = pyclaw.Solution(i, file_format='petsc', file_prefix='claw', read_aux=True, path=path)\n",
    "    return frame\n",
    "\n",
    "FV_frames = []\n",
    "\n",
    "for i in range(num_plots):\n",
    "    frame = FV_solution(i)\n",
    "    FV_frames.append(frame.q)  \n",
    "\n",
    "xFV = frame.domain.grid.x.centers\n",
    "a = frame.aux[0:]"
   ]
  },
  {
   "cell_type": "code",
   "execution_count": null,
   "id": "abad5fa0",
   "metadata": {},
   "outputs": [],
   "source": [
    "def plot_solution(frames,x,xFV,FV_frames, tt,a):\n",
    "    fig = plt.figure(figsize=(10,10))\n",
    "    axes = fig.add_subplot(211)\n",
    "    axes2 = fig.add_subplot(212)\n",
    "    line, = axes.plot(x,frames[0][0,:]+p_0,lw=3,  label='Homogenized')\n",
    "    line2, = axes2.plot(x,frames[0][1,:],lw=2)\n",
    "    lineFV, = axes.plot(xFV,FV_frames[0][0],lw=3, label ='FV')\n",
    "    line2FV, = axes2.plot(xFV, a.flatten()*FV_frames[0][1].flatten(), lw=3)\n",
    "    axes.set_xlabel(r'$x$',fontsize=30)\n",
    "    axes2.set_xlabel(r'$x$',fontsize=30)\n",
    "    axes.set_ylabel(r'$\\rho$',fontsize=30)\n",
    "    axes2.set_ylabel(r'$q$',fontsize=30)\n",
    "    #plt.tight_layout()\n",
    "    plt.close()\n",
    "\n",
    "\n",
    "    def plot_frame(i):\n",
    "        line.set_data(x,frames[i][0,:]+p_0)\n",
    "        line2.set_data(x,frames[i][1,:])\n",
    "        lineFV.set_data(xFV,FV_frames[i][0])\n",
    "        line2FV.set_data(xFV, a.flatten()*FV_frames[i][1].flatten())\n",
    "        axes.set_xlim((0,x[-1]))\n",
    "        axes2.set_xlim((0,x[-1]))\n",
    "        \n",
    "    axes.legend()\n",
    "\n",
    "    anim = matplotlib.animation.FuncAnimation(fig, plot_frame,\n",
    "                                              frames=len(FV_frames), interval=100,\n",
    "                                              repeat=False)\n",
    "    return HTML(anim.to_jshtml())\n"
   ]
  },
  {
   "cell_type": "code",
   "execution_count": null,
   "id": "202bf30e",
   "metadata": {
    "scrolled": false
   },
   "outputs": [],
   "source": [
    "plot_solution(frames,x,xFV,FV_frames, tt,a)"
   ]
  },
  {
   "cell_type": "code",
   "execution_count": null,
   "id": "c7add7c3",
   "metadata": {},
   "outputs": [],
   "source": []
  }
 ],
 "metadata": {
  "kernelspec": {
   "display_name": "Python 3 (ipykernel)",
   "language": "python",
   "name": "python3"
  },
  "language_info": {
   "codemirror_mode": {
    "name": "ipython",
    "version": 3
   },
   "file_extension": ".py",
   "mimetype": "text/x-python",
   "name": "python",
   "nbconvert_exporter": "python",
   "pygments_lexer": "ipython3",
   "version": "3.11.4"
  }
 },
 "nbformat": 4,
 "nbformat_minor": 5
}
